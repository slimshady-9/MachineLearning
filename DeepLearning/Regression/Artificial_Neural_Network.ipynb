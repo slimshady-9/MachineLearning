{
  "nbformat": 4,
  "nbformat_minor": 0,
  "metadata": {
    "colab": {
      "name": "Artificial Neural Network",
      "provenance": [],
      "collapsed_sections": [],
      "toc_visible": true,
      "include_colab_link": true
    },
    "kernelspec": {
      "name": "python3",
      "display_name": "Python 3"
    }
  },
  "cells": [
    {
      "cell_type": "markdown",
      "metadata": {
        "id": "view-in-github",
        "colab_type": "text"
      },
      "source": [
        "<a href=\"https://colab.research.google.com/github/slimshady-9/MachineLearning/blob/master/DeepLearning/Regression/Artificial_Neural_Network.ipynb\" target=\"_parent\"><img src=\"https://colab.research.google.com/assets/colab-badge.svg\" alt=\"Open In Colab\"/></a>"
      ]
    },
    {
      "cell_type": "markdown",
      "metadata": {
        "id": "3cbb7fRy-eyr",
        "colab_type": "text"
      },
      "source": [
        "# Artificial Neural Network"
      ]
    },
    {
      "cell_type": "markdown",
      "metadata": {
        "id": "8sNDnxE2-pwE",
        "colab_type": "text"
      },
      "source": [
        "### Importing the libraries"
      ]
    },
    {
      "cell_type": "code",
      "metadata": {
        "id": "dvz9KatbYPl8",
        "colab_type": "code",
        "colab": {}
      },
      "source": [
        "import numpy as np\n",
        "import pandas as pd\n",
        "import tensorflow as tf"
      ],
      "execution_count": 0,
      "outputs": []
    },
    {
      "cell_type": "code",
      "metadata": {
        "id": "QjuJHqAtY6mO",
        "colab_type": "code",
        "outputId": "4c34ee8f-5a19-4c3d-e1a2-77de5a587d93",
        "colab": {
          "base_uri": "https://localhost:8080/",
          "height": 34
        }
      },
      "source": [
        "tf.__version__"
      ],
      "execution_count": 0,
      "outputs": [
        {
          "output_type": "execute_result",
          "data": {
            "text/plain": [
              "'2.2.0-rc3'"
            ]
          },
          "metadata": {
            "tags": []
          },
          "execution_count": 2
        }
      ]
    },
    {
      "cell_type": "markdown",
      "metadata": {
        "id": "AG3FQEch-yuA",
        "colab_type": "text"
      },
      "source": [
        "## Part 1 - Data Preprocessing"
      ]
    },
    {
      "cell_type": "markdown",
      "metadata": {
        "id": "-4zq8Mza_D9O",
        "colab_type": "text"
      },
      "source": [
        "### Importing the dataset"
      ]
    },
    {
      "cell_type": "code",
      "metadata": {
        "id": "75DS6O12ZERS",
        "colab_type": "code",
        "colab": {}
      },
      "source": [
        "data=pd.read_excel(\"Folds5x2_pp.xlsx\")\n",
        "X = data.iloc[:,:-1].values\n",
        "Y = data.iloc[:,-1].values"
      ],
      "execution_count": 0,
      "outputs": []
    },
    {
      "cell_type": "markdown",
      "metadata": {
        "id": "VC6omXel_Up0",
        "colab_type": "text"
      },
      "source": [
        "### Splitting the dataset into the Training set and Test set"
      ]
    },
    {
      "cell_type": "code",
      "metadata": {
        "id": "RqEqvphMfKl3",
        "colab_type": "code",
        "colab": {}
      },
      "source": [
        "from sklearn.model_selection import train_test_split\n",
        "X_train,X_test,Y_train,Y_test = train_test_split(X,Y,test_size=0.2,random_state=0)"
      ],
      "execution_count": 0,
      "outputs": []
    },
    {
      "cell_type": "markdown",
      "metadata": {
        "id": "_mSLlAT9_eyI",
        "colab_type": "text"
      },
      "source": [
        "## Part 2 - Building the ANN"
      ]
    },
    {
      "cell_type": "markdown",
      "metadata": {
        "id": "CsBULd_f_wLY",
        "colab_type": "text"
      },
      "source": [
        "### Initializing the ANN"
      ]
    },
    {
      "cell_type": "code",
      "metadata": {
        "id": "zglXek4fgRHj",
        "colab_type": "code",
        "colab": {}
      },
      "source": [
        "ann = tf.keras.models.Sequential()"
      ],
      "execution_count": 0,
      "outputs": []
    },
    {
      "cell_type": "markdown",
      "metadata": {
        "id": "iitAFJS_ABUn",
        "colab_type": "text"
      },
      "source": [
        "### Adding the input layer and the first hidden layer"
      ]
    },
    {
      "cell_type": "code",
      "metadata": {
        "id": "iHOOpkOThQz0",
        "colab_type": "code",
        "colab": {}
      },
      "source": [
        "ann.add(tf.keras.layers.Dense(units=6,activation='relu'))"
      ],
      "execution_count": 0,
      "outputs": []
    },
    {
      "cell_type": "markdown",
      "metadata": {
        "id": "-lb4kK_wAKbs",
        "colab_type": "text"
      },
      "source": [
        "### Adding the second hidden layer"
      ]
    },
    {
      "cell_type": "code",
      "metadata": {
        "id": "8YSawUFmhRwq",
        "colab_type": "code",
        "colab": {}
      },
      "source": [
        "ann.add(tf.keras.layers.Dense(units=6, activation='relu'))"
      ],
      "execution_count": 0,
      "outputs": []
    },
    {
      "cell_type": "markdown",
      "metadata": {
        "id": "jwMOmKb3AdBY",
        "colab_type": "text"
      },
      "source": [
        "### Adding the output layer"
      ]
    },
    {
      "cell_type": "code",
      "metadata": {
        "id": "MWnlEjS7iEzm",
        "colab_type": "code",
        "colab": {}
      },
      "source": [
        "ann.add(tf.keras.layers.Dense(units=1))"
      ],
      "execution_count": 0,
      "outputs": []
    },
    {
      "cell_type": "markdown",
      "metadata": {
        "id": "fq7e4fF6A1yy",
        "colab_type": "text"
      },
      "source": [
        "## Part 3 - Training the ANN"
      ]
    },
    {
      "cell_type": "markdown",
      "metadata": {
        "id": "qDeylAs2An25",
        "colab_type": "text"
      },
      "source": [
        "### Compiling the ANN"
      ]
    },
    {
      "cell_type": "code",
      "metadata": {
        "id": "YhOpY72zjJMC",
        "colab_type": "code",
        "colab": {}
      },
      "source": [
        "ann.compile(optimizer='adam',loss='mean_squared_error')"
      ],
      "execution_count": 0,
      "outputs": []
    },
    {
      "cell_type": "markdown",
      "metadata": {
        "id": "YjVuiybYOo7r",
        "colab_type": "text"
      },
      "source": [
        "### Training the ANN model on the Training set"
      ]
    },
    {
      "cell_type": "code",
      "metadata": {
        "id": "Y3sS5BsXjKEc",
        "colab_type": "code",
        "outputId": "59e9d80a-daa1-4476-e1c7-ceab81be5ab8",
        "colab": {
          "base_uri": "https://localhost:8080/",
          "height": 1000
        }
      },
      "source": [
        "ann.fit(X_train, Y_train, batch_size = 32, epochs = 100)"
      ],
      "execution_count": 0,
      "outputs": [
        {
          "output_type": "stream",
          "text": [
            "Epoch 1/100\n",
            "240/240 [==============================] - 0s 1ms/step - loss: 1686.9534\n",
            "Epoch 2/100\n",
            "240/240 [==============================] - 0s 1ms/step - loss: 300.7177\n",
            "Epoch 3/100\n",
            "240/240 [==============================] - 0s 1ms/step - loss: 276.9843\n",
            "Epoch 4/100\n",
            "240/240 [==============================] - 0s 1ms/step - loss: 251.3584\n",
            "Epoch 5/100\n",
            "240/240 [==============================] - 0s 1ms/step - loss: 225.6686\n",
            "Epoch 6/100\n",
            "240/240 [==============================] - 0s 1ms/step - loss: 199.5328\n",
            "Epoch 7/100\n",
            "240/240 [==============================] - 0s 1ms/step - loss: 175.1212\n",
            "Epoch 8/100\n",
            "240/240 [==============================] - 0s 1ms/step - loss: 152.3327\n",
            "Epoch 9/100\n",
            "240/240 [==============================] - 0s 977us/step - loss: 131.4863\n",
            "Epoch 10/100\n",
            "240/240 [==============================] - 0s 1ms/step - loss: 113.6786\n",
            "Epoch 11/100\n",
            "240/240 [==============================] - 0s 984us/step - loss: 96.8639\n",
            "Epoch 12/100\n",
            "240/240 [==============================] - 0s 1ms/step - loss: 82.7767\n",
            "Epoch 13/100\n",
            "240/240 [==============================] - 0s 975us/step - loss: 69.8357\n",
            "Epoch 14/100\n",
            "240/240 [==============================] - 0s 989us/step - loss: 60.3539\n",
            "Epoch 15/100\n",
            "240/240 [==============================] - 0s 998us/step - loss: 52.2654\n",
            "Epoch 16/100\n",
            "240/240 [==============================] - 0s 1ms/step - loss: 45.5220\n",
            "Epoch 17/100\n",
            "240/240 [==============================] - 0s 999us/step - loss: 40.1596\n",
            "Epoch 18/100\n",
            "240/240 [==============================] - 0s 983us/step - loss: 36.8343\n",
            "Epoch 19/100\n",
            "240/240 [==============================] - 0s 977us/step - loss: 34.3278\n",
            "Epoch 20/100\n",
            "240/240 [==============================] - 0s 1ms/step - loss: 32.6088\n",
            "Epoch 21/100\n",
            "240/240 [==============================] - 0s 1ms/step - loss: 31.5194\n",
            "Epoch 22/100\n",
            "240/240 [==============================] - 0s 977us/step - loss: 30.5701\n",
            "Epoch 23/100\n",
            "240/240 [==============================] - 0s 1ms/step - loss: 29.8401\n",
            "Epoch 24/100\n",
            "240/240 [==============================] - 0s 1ms/step - loss: 29.1380\n",
            "Epoch 25/100\n",
            "240/240 [==============================] - 0s 995us/step - loss: 30.1015\n",
            "Epoch 26/100\n",
            "240/240 [==============================] - 0s 1ms/step - loss: 29.7081\n",
            "Epoch 27/100\n",
            "240/240 [==============================] - 0s 977us/step - loss: 28.7407\n",
            "Epoch 28/100\n",
            "240/240 [==============================] - 0s 991us/step - loss: 28.6204\n",
            "Epoch 29/100\n",
            "240/240 [==============================] - 0s 975us/step - loss: 29.0233\n",
            "Epoch 30/100\n",
            "240/240 [==============================] - 0s 982us/step - loss: 28.5318\n",
            "Epoch 31/100\n",
            "240/240 [==============================] - 0s 1ms/step - loss: 28.2812\n",
            "Epoch 32/100\n",
            "240/240 [==============================] - 0s 999us/step - loss: 28.4693\n",
            "Epoch 33/100\n",
            "240/240 [==============================] - 0s 1ms/step - loss: 28.5655\n",
            "Epoch 34/100\n",
            "240/240 [==============================] - 0s 1ms/step - loss: 28.1257\n",
            "Epoch 35/100\n",
            "240/240 [==============================] - 0s 1ms/step - loss: 28.5623\n",
            "Epoch 36/100\n",
            "240/240 [==============================] - 0s 986us/step - loss: 27.5616\n",
            "Epoch 37/100\n",
            "240/240 [==============================] - 0s 1ms/step - loss: 28.1150\n",
            "Epoch 38/100\n",
            "240/240 [==============================] - 0s 988us/step - loss: 27.8260\n",
            "Epoch 39/100\n",
            "240/240 [==============================] - 0s 969us/step - loss: 27.6984\n",
            "Epoch 40/100\n",
            "240/240 [==============================] - 0s 985us/step - loss: 27.6139\n",
            "Epoch 41/100\n",
            "240/240 [==============================] - 0s 1ms/step - loss: 27.0473\n",
            "Epoch 42/100\n",
            "240/240 [==============================] - 0s 998us/step - loss: 27.4546\n",
            "Epoch 43/100\n",
            "240/240 [==============================] - 0s 979us/step - loss: 27.6691\n",
            "Epoch 44/100\n",
            "240/240 [==============================] - 0s 974us/step - loss: 27.5737\n",
            "Epoch 45/100\n",
            "240/240 [==============================] - 0s 1ms/step - loss: 27.2108\n",
            "Epoch 46/100\n",
            "240/240 [==============================] - 0s 969us/step - loss: 27.0453\n",
            "Epoch 47/100\n",
            "240/240 [==============================] - 0s 984us/step - loss: 26.9271\n",
            "Epoch 48/100\n",
            "240/240 [==============================] - 0s 996us/step - loss: 26.7834\n",
            "Epoch 49/100\n",
            "240/240 [==============================] - 0s 1ms/step - loss: 27.0411\n",
            "Epoch 50/100\n",
            "240/240 [==============================] - 0s 1ms/step - loss: 26.4887\n",
            "Epoch 51/100\n",
            "240/240 [==============================] - 0s 1ms/step - loss: 27.4749\n",
            "Epoch 52/100\n",
            "240/240 [==============================] - 0s 1ms/step - loss: 26.6071\n",
            "Epoch 53/100\n",
            "240/240 [==============================] - 0s 1ms/step - loss: 26.5772\n",
            "Epoch 54/100\n",
            "240/240 [==============================] - 0s 980us/step - loss: 26.9540\n",
            "Epoch 55/100\n",
            "240/240 [==============================] - 0s 2ms/step - loss: 27.0127\n",
            "Epoch 56/100\n",
            "240/240 [==============================] - 0s 2ms/step - loss: 26.9918\n",
            "Epoch 57/100\n",
            "240/240 [==============================] - 0s 2ms/step - loss: 26.7616\n",
            "Epoch 58/100\n",
            "240/240 [==============================] - 0s 2ms/step - loss: 27.0074\n",
            "Epoch 59/100\n",
            "240/240 [==============================] - 0s 2ms/step - loss: 27.0921\n",
            "Epoch 60/100\n",
            "240/240 [==============================] - 0s 2ms/step - loss: 26.4706\n",
            "Epoch 61/100\n",
            "240/240 [==============================] - 0s 2ms/step - loss: 27.1621\n",
            "Epoch 62/100\n",
            "240/240 [==============================] - 0s 2ms/step - loss: 26.9579\n",
            "Epoch 63/100\n",
            "240/240 [==============================] - 0s 2ms/step - loss: 26.5568\n",
            "Epoch 64/100\n",
            "240/240 [==============================] - 0s 2ms/step - loss: 26.8189\n",
            "Epoch 65/100\n",
            "240/240 [==============================] - 0s 2ms/step - loss: 27.7438\n",
            "Epoch 66/100\n",
            "240/240 [==============================] - 0s 2ms/step - loss: 26.7108\n",
            "Epoch 67/100\n",
            "240/240 [==============================] - 0s 2ms/step - loss: 27.2546\n",
            "Epoch 68/100\n",
            "240/240 [==============================] - 0s 2ms/step - loss: 26.4449\n",
            "Epoch 69/100\n",
            "240/240 [==============================] - 0s 2ms/step - loss: 26.8871\n",
            "Epoch 70/100\n",
            "240/240 [==============================] - 0s 2ms/step - loss: 26.8415\n",
            "Epoch 71/100\n",
            "240/240 [==============================] - 0s 2ms/step - loss: 26.4582\n",
            "Epoch 72/100\n",
            "240/240 [==============================] - 0s 2ms/step - loss: 27.0898\n",
            "Epoch 73/100\n",
            "240/240 [==============================] - 0s 2ms/step - loss: 27.1103\n",
            "Epoch 74/100\n",
            "240/240 [==============================] - 0s 2ms/step - loss: 26.4962\n",
            "Epoch 75/100\n",
            "240/240 [==============================] - 0s 2ms/step - loss: 26.6152\n",
            "Epoch 76/100\n",
            "240/240 [==============================] - 0s 2ms/step - loss: 26.4116\n",
            "Epoch 77/100\n",
            "240/240 [==============================] - 0s 2ms/step - loss: 26.3765\n",
            "Epoch 78/100\n",
            "240/240 [==============================] - 0s 2ms/step - loss: 27.0581\n",
            "Epoch 79/100\n",
            "240/240 [==============================] - 0s 2ms/step - loss: 26.8874\n",
            "Epoch 80/100\n",
            "240/240 [==============================] - 0s 2ms/step - loss: 26.3821\n",
            "Epoch 81/100\n",
            "240/240 [==============================] - 0s 1ms/step - loss: 26.3768\n",
            "Epoch 82/100\n",
            "240/240 [==============================] - 0s 1ms/step - loss: 27.2282\n",
            "Epoch 83/100\n",
            "240/240 [==============================] - 0s 1ms/step - loss: 26.8838\n",
            "Epoch 84/100\n",
            "240/240 [==============================] - 0s 970us/step - loss: 26.4526\n",
            "Epoch 85/100\n",
            "240/240 [==============================] - 0s 1ms/step - loss: 26.9890\n",
            "Epoch 86/100\n",
            "240/240 [==============================] - 0s 975us/step - loss: 27.0410\n",
            "Epoch 87/100\n",
            "240/240 [==============================] - 0s 1ms/step - loss: 26.8947\n",
            "Epoch 88/100\n",
            "240/240 [==============================] - 0s 1ms/step - loss: 27.2263\n",
            "Epoch 89/100\n",
            "240/240 [==============================] - 0s 1ms/step - loss: 27.0551\n",
            "Epoch 90/100\n",
            "240/240 [==============================] - 0s 1ms/step - loss: 26.5129\n",
            "Epoch 91/100\n",
            "240/240 [==============================] - 0s 1ms/step - loss: 27.0157\n",
            "Epoch 92/100\n",
            "240/240 [==============================] - 0s 974us/step - loss: 26.9173\n",
            "Epoch 93/100\n",
            "240/240 [==============================] - 0s 1ms/step - loss: 27.4202\n",
            "Epoch 94/100\n",
            "240/240 [==============================] - 0s 974us/step - loss: 26.9692\n",
            "Epoch 95/100\n",
            "240/240 [==============================] - 0s 1ms/step - loss: 26.5777\n",
            "Epoch 96/100\n",
            "240/240 [==============================] - 0s 1ms/step - loss: 26.7107\n",
            "Epoch 97/100\n",
            "240/240 [==============================] - 0s 1ms/step - loss: 26.9837\n",
            "Epoch 98/100\n",
            "240/240 [==============================] - 0s 1ms/step - loss: 27.1686\n",
            "Epoch 99/100\n",
            "240/240 [==============================] - 0s 1ms/step - loss: 26.3952\n",
            "Epoch 100/100\n",
            "240/240 [==============================] - 0s 981us/step - loss: 26.4949\n"
          ],
          "name": "stdout"
        },
        {
          "output_type": "execute_result",
          "data": {
            "text/plain": [
              "<tensorflow.python.keras.callbacks.History at 0x7f5dd8390630>"
            ]
          },
          "metadata": {
            "tags": []
          },
          "execution_count": 17
        }
      ]
    },
    {
      "cell_type": "markdown",
      "metadata": {
        "id": "0H0zKKNEBLD5",
        "colab_type": "text"
      },
      "source": [
        "### Predicting the results of the Test set"
      ]
    },
    {
      "cell_type": "code",
      "metadata": {
        "id": "7zMPaiYqjKrk",
        "colab_type": "code",
        "outputId": "7a6bb8bb-f5f3-4958-ae8b-84657da709e1",
        "colab": {
          "base_uri": "https://localhost:8080/",
          "height": 136
        }
      },
      "source": [
        "y_pred = ann.predict(X_test)\n",
        "np.set_printoptions(precision=2)\n",
        "print(np.concatenate((y_pred.reshape(len(y_pred),1), Y_test.reshape(len(Y_test),1)),1))"
      ],
      "execution_count": 0,
      "outputs": [
        {
          "output_type": "stream",
          "text": [
            "[[429.14 431.23]\n",
            " [460.26 460.01]\n",
            " [463.32 461.14]\n",
            " ...\n",
            " [471.08 473.26]\n",
            " [437.44 438.  ]\n",
            " [456.68 463.28]]\n"
          ],
          "name": "stdout"
        }
      ]
    }
  ]
}